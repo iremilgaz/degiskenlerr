{
 "cells": [
  {
   "cell_type": "code",
   "execution_count": 3,
   "id": "d912a56e",
   "metadata": {},
   "outputs": [
    {
     "name": "stdout",
     "output_type": "stream",
     "text": [
      "irem 23 1.63 True\n"
     ]
    }
   ],
   "source": [
    "#görev1\n",
    "isim: str=(\"irem\")\n",
    "yas:int=(23)\n",
    "boy:float=(1.63)\n",
    "ogrenci_mi:bool=True \n",
    "print(isim,yas,boy,ogrenci_mi)"
   ]
  },
  {
   "cell_type": "code",
   "execution_count": null,
   "id": "68b88c3a",
   "metadata": {},
   "outputs": [],
   "source": [
    "#görev2\n",
    "dogum_yili = int(input(\"doğum yılınızı girin:\"))\n",
    "yas = 2025 - dogum_yili\n",
    "print(yas)"
   ]
  },
  {
   "cell_type": "code",
   "execution_count": null,
   "id": "fb92b16e",
   "metadata": {},
   "outputs": [],
   "source": []
  }
 ],
 "metadata": {
  "kernelspec": {
   "display_name": "Python 3 (ipykernel)",
   "language": "python",
   "name": "python3"
  },
  "language_info": {
   "codemirror_mode": {
    "name": "ipython",
    "version": 3
   },
   "file_extension": ".py",
   "mimetype": "text/x-python",
   "name": "python",
   "nbconvert_exporter": "python",
   "pygments_lexer": "ipython3",
   "version": "3.9.12"
  }
 },
 "nbformat": 4,
 "nbformat_minor": 5
}
